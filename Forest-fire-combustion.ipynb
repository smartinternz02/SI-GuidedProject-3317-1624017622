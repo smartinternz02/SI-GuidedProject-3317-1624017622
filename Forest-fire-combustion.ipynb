{
 "cells": [
  {
   "cell_type": "code",
   "execution_count": 1,
   "metadata": {},
   "outputs": [
    {
     "name": "stderr",
     "output_type": "stream",
     "text": [
      "WARNING:root:Limited tf.compat.v2.summary API due to missing TensorBoard installation.\n",
      "WARNING:root:Limited tf.compat.v2.summary API due to missing TensorBoard installation.\n",
      "WARNING:root:Limited tf.compat.v2.summary API due to missing TensorBoard installation.\n",
      "WARNING:root:Limited tf.summary API due to missing TensorBoard installation.\n",
      "WARNING:root:Limited tf.compat.v2.summary API due to missing TensorBoard installation.\n",
      "WARNING:root:Limited tf.compat.v2.summary API due to missing TensorBoard installation.\n",
      "WARNING:root:Limited tf.compat.v2.summary API due to missing TensorBoard installation.\n"
     ]
    }
   ],
   "source": [
    "#import keras library\n",
    "import tensorflow\n",
    "import keras\n",
    "#import ImageDataGenerator class from keras\n",
    "from tensorflow.keras.preprocessing.image import ImageDataGenerator"
   ]
  },
  {
   "cell_type": "code",
   "execution_count": 2,
   "metadata": {},
   "outputs": [],
   "source": [
    "#Define the parameters /arguments for ImageDataGenerator class\n",
    "from tensorflow.keras.preprocessing.image import ImageDataGenerator\n",
    "train_datagen=ImageDataGenerator(rescale=1./255,\n",
    "                                 shear_range=0.2,\n",
    "                                 rotation_range=180,\n",
    "                                 zoom_range=0.2,\n",
    "                                 horizontal_flip=True)\n",
    "\n",
    "\n",
    "test_datagen=ImageDataGenerator(rescale=1./255)"
   ]
  },
  {
   "cell_type": "code",
   "execution_count": 3,
   "metadata": {},
   "outputs": [
    {
     "data": {
      "text/plain": [
       "<tensorflow.python.keras.preprocessing.image.ImageDataGenerator at 0xde3477278>"
      ]
     },
     "execution_count": 3,
     "metadata": {},
     "output_type": "execute_result"
    }
   ],
   "source": [
    "train_datagen"
   ]
  },
  {
   "cell_type": "code",
   "execution_count": 4,
   "metadata": {},
   "outputs": [
    {
     "data": {
      "text/plain": [
       "<tensorflow.python.keras.preprocessing.image.ImageDataGenerator at 0xde34772b0>"
      ]
     },
     "execution_count": 4,
     "metadata": {},
     "output_type": "execute_result"
    }
   ],
   "source": [
    "test_datagen"
   ]
  },
  {
   "cell_type": "code",
   "execution_count": 5,
   "metadata": {},
   "outputs": [
    {
     "name": "stdout",
     "output_type": "stream",
     "text": [
      "Found 436 images belonging to 2 classes.\n"
     ]
    }
   ],
   "source": [
    "#: Applying ImageDataGenerator functionality to trainset.\n",
    "#give the path of training images folder\n",
    "x_train = train_datagen.flow_from_directory(r'D:\\internship\\project\\Dataset\\train_set',\n",
    "                                            target_size = (64,64),\n",
    "                                            batch_size = 32,\n",
    "                                            class_mode = 'binary')"
   ]
  },
  {
   "cell_type": "code",
   "execution_count": 6,
   "metadata": {},
   "outputs": [
    {
     "name": "stdout",
     "output_type": "stream",
     "text": [
      "Found 121 images belonging to 2 classes.\n"
     ]
    }
   ],
   "source": [
    "#: Applying ImageDataGenerator functionality to testset.\n",
    "#give the path of testing images folder\n",
    "x_test = test_datagen.flow_from_directory(r'D:\\internship\\project\\Dataset\\test_set',\n",
    "                                          target_size = (64,64),\n",
    "                                          batch_size = 32,\n",
    "                                          class_mode = 'binary')"
   ]
  },
  {
   "cell_type": "code",
   "execution_count": 7,
   "metadata": {},
   "outputs": [],
   "source": [
    "'''import model building libraries'''\n",
    "\n",
    "#To define linear intialisation import Sequential\n",
    "from tensorflow.keras.models import Sequential\n",
    "#To add layers import Dense\n",
    "from tensorflow.keras.layers import Dense\n",
    "#To create Convolution kernel import Convolution2D\n",
    "from tensorflow.keras.layers import Convolution2D\n",
    "#import Maxpooling layer\n",
    "from tensorflow.keras.layers import MaxPooling2D\n",
    "#import Flatten layer\n",
    "from tensorflow.keras.layers import Flatten"
   ]
  },
  {
   "cell_type": "code",
   "execution_count": 8,
   "metadata": {},
   "outputs": [],
   "source": [
    "#intializing the model\n",
    "model =Sequential()"
   ]
  },
  {
   "cell_type": "code",
   "execution_count": 9,
   "metadata": {},
   "outputs": [],
   "source": [
    "#add convolutional layer\n",
    "model.add(Convolution2D(32,(3,3),input_shape=(64,64,3),activation='relu'))"
   ]
  },
  {
   "cell_type": "code",
   "execution_count": 10,
   "metadata": {},
   "outputs": [],
   "source": [
    "#add maxpooling layer\n",
    "model.add(MaxPooling2D(pool_size=(2,2)))"
   ]
  },
  {
   "cell_type": "code",
   "execution_count": 11,
   "metadata": {},
   "outputs": [],
   "source": [
    "#add flatten layer\n",
    "model.add(Flatten())"
   ]
  },
  {
   "cell_type": "code",
   "execution_count": 12,
   "metadata": {},
   "outputs": [],
   "source": [
    "#add hidden layer\n",
    "#model.add(Dense(150,activation='relu'))\n",
    "model.add(Dense(kernel_initializer=\"uniform\",activation=\"relu\",units=150))"
   ]
  },
  {
   "cell_type": "code",
   "execution_count": 13,
   "metadata": {},
   "outputs": [],
   "source": [
    "model.add(Dense(kernel_initializer=\"uniform\",activation=\"relu\",units=100))"
   ]
  },
  {
   "cell_type": "code",
   "execution_count": 14,
   "metadata": {},
   "outputs": [],
   "source": [
    "model.add(Dense(kernel_initializer=\"uniform\",activation=\"relu\",units=60))"
   ]
  },
  {
   "cell_type": "code",
   "execution_count": null,
   "metadata": {},
   "outputs": [],
   "source": [
    "#add hidden layermodel.add(Dense(output_dim=64,init='uniform',activation='relu'))"
   ]
  },
  {
   "cell_type": "code",
   "execution_count": 15,
   "metadata": {},
   "outputs": [],
   "source": [
    "#add output layer\n",
    "model.add(Dense(units=1,kernel_initializer=\"uniform\",activation='sigmoid'))"
   ]
  },
  {
   "cell_type": "code",
   "execution_count": 16,
   "metadata": {},
   "outputs": [],
   "source": [
    "model.compile(optimizer='adam',loss='binary_crossentropy',metrics=['accuracy'])"
   ]
  },
  {
   "cell_type": "code",
   "execution_count": 17,
   "metadata": {},
   "outputs": [
    {
     "name": "stderr",
     "output_type": "stream",
     "text": [
      "C:\\Users\\Lenovo\\Anaconda3\\envs\\newenv\\lib\\site-packages\\tensorflow\\python\\keras\\engine\\training.py:1940: UserWarning: `Model.fit_generator` is deprecated and will be removed in a future version. Please use `Model.fit`, which supports generators.\n",
      "  warnings.warn('`Model.fit_generator` is deprecated and '\n"
     ]
    },
    {
     "name": "stdout",
     "output_type": "stream",
     "text": [
      "Epoch 1/10\n",
      "14/14 [==============================] - 51s 3s/step - loss: 0.6693 - accuracy: 0.5986 - val_loss: 0.5973 - val_accuracy: 0.5950\n",
      "Epoch 2/10\n",
      "14/14 [==============================] - 59s 4s/step - loss: 0.5845 - accuracy: 0.6743 - val_loss: 0.4813 - val_accuracy: 0.7438\n",
      "Epoch 3/10\n",
      "14/14 [==============================] - 39s 3s/step - loss: 0.4323 - accuracy: 0.8326 - val_loss: 0.1630 - val_accuracy: 0.9587\n",
      "Epoch 4/10\n",
      "14/14 [==============================] - 42s 3s/step - loss: 0.2960 - accuracy: 0.8830 - val_loss: 0.1718 - val_accuracy: 0.9091\n",
      "Epoch 5/10\n",
      "14/14 [==============================] - 48s 4s/step - loss: 0.2532 - accuracy: 0.8945 - val_loss: 0.1595 - val_accuracy: 0.9339\n",
      "Epoch 6/10\n",
      "14/14 [==============================] - 46s 3s/step - loss: 0.2150 - accuracy: 0.9174 - val_loss: 0.1122 - val_accuracy: 0.9587\n",
      "Epoch 7/10\n",
      "14/14 [==============================] - 38s 3s/step - loss: 0.1900 - accuracy: 0.9312 - val_loss: 0.0818 - val_accuracy: 0.9752\n",
      "Epoch 8/10\n",
      "14/14 [==============================] - 40s 3s/step - loss: 0.1884 - accuracy: 0.9243 - val_loss: 0.1436 - val_accuracy: 0.9339\n",
      "Epoch 9/10\n",
      "14/14 [==============================] - 38s 3s/step - loss: 0.2288 - accuracy: 0.8945 - val_loss: 0.0689 - val_accuracy: 0.9835\n",
      "Epoch 10/10\n",
      "14/14 [==============================] - 30s 2s/step - loss: 0.2072 - accuracy: 0.9174 - val_loss: 0.0755 - val_accuracy: 0.9835\n"
     ]
    },
    {
     "data": {
      "text/plain": [
       "<tensorflow.python.keras.callbacks.History at 0xde59d0438>"
      ]
     },
     "execution_count": 17,
     "metadata": {},
     "output_type": "execute_result"
    }
   ],
   "source": [
    "#Training the model\n",
    "model.fit_generator(x_train,steps_per_epoch=14,\n",
    "                    epochs=10,validation_data=x_test,\n",
    "                    validation_steps=4)"
   ]
  },
  {
   "cell_type": "code",
   "execution_count": 18,
   "metadata": {
    "scrolled": true
   },
   "outputs": [],
   "source": [
    "#save the model\n",
    "model.save(\"forest1.h5\")"
   ]
  },
  {
   "cell_type": "code",
   "execution_count": 19,
   "metadata": {},
   "outputs": [
    {
     "name": "stdout",
     "output_type": "stream",
     "text": [
      "{'forest': 0, 'with fire': 1}\n"
     ]
    }
   ],
   "source": [
    "print(x_train.class_indices)"
   ]
  },
  {
   "cell_type": "markdown",
   "metadata": {},
   "source": [
    "# Prediction"
   ]
  },
  {
   "cell_type": "code",
   "execution_count": 20,
   "metadata": {},
   "outputs": [
    {
     "name": "stderr",
     "output_type": "stream",
     "text": [
      "C:\\Users\\Lenovo\\Anaconda3\\envs\\newenv\\lib\\site-packages\\tensorflow\\python\\keras\\engine\\sequential.py:455: UserWarning: `model.predict_classes()` is deprecated and will be removed after 2021-01-01. Please use instead:* `np.argmax(model.predict(x), axis=-1)`,   if your model does multi-class classification   (e.g. if it uses a `softmax` last-layer activation).* `(model.predict(x) > 0.5).astype(\"int32\")`,   if your model does binary classification   (e.g. if it uses a `sigmoid` last-layer activation).\n",
      "  warnings.warn('`model.predict_classes()` is deprecated and '\n"
     ]
    },
    {
     "data": {
      "text/plain": [
       "array([[1]])"
      ]
     },
     "execution_count": 20,
     "metadata": {},
     "output_type": "execute_result"
    }
   ],
   "source": [
    "#import numpy\n",
    "import numpy as np\n",
    "#import load_model from keras.model\n",
    "from tensorflow.keras.models import load_model\n",
    "#import image class from keras\n",
    "from tensorflow.keras.preprocessing import image\n",
    "#load the saved model\n",
    "model = load_model(\"forest1.h5\")\n",
    "#give any random image path\n",
    "img = image.load_img(r'D:\\internship\\project\\Dataset\\train_set\\with fire\\with fire (2).jpg',\n",
    "                     target_size = (64,64))\n",
    "x = image.img_to_array(img)\n",
    "#expand the image shape\n",
    "x = np.expand_dims(x,axis = 0)\n",
    "pred = model.predict_classes(x)\n",
    "pred"
   ]
  },
  {
   "cell_type": "code",
   "execution_count": null,
   "metadata": {},
   "outputs": [],
   "source": [
    "x"
   ]
  },
  {
   "cell_type": "code",
   "execution_count": 21,
   "metadata": {},
   "outputs": [
    {
     "name": "stdout",
     "output_type": "stream",
     "text": [
      "[1]\n"
     ]
    }
   ],
   "source": [
    "print(pred[0])"
   ]
  },
  {
   "cell_type": "markdown",
   "metadata": {},
   "source": [
    "# opencv prediction"
   ]
  },
  {
   "cell_type": "code",
   "execution_count": null,
   "metadata": {},
   "outputs": [
    {
     "name": "stdout",
     "output_type": "stream",
     "text": [
      "[[1]]\n",
      "SM71121d4174b24929926b8fe26c5f7c0c\n",
      "Danger!!\n",
      "Fire Detected\n",
      "SMS sent!\n",
      "[[1]]\n",
      "SM30dfe00df5af48e6b488da65f1ef6aee\n",
      "Danger!!\n",
      "Fire Detected\n",
      "SMS sent!\n",
      "[[1]]\n",
      "no danger\n",
      "[[0]]\n",
      "SMe88efbfeaf8540619ed80bf535dfad90\n",
      "Danger!!\n",
      "Fire Detected\n",
      "SMS sent!\n",
      "[[1]]\n",
      "SM020b8dc8b8ae4c05a1817b138968ff45\n",
      "Danger!!\n",
      "Fire Detected\n",
      "SMS sent!\n",
      "[[1]]\n",
      "SMff72265c848d4f709050ab3ceb6369ae\n",
      "Danger!!\n",
      "Fire Detected\n",
      "SMS sent!\n",
      "[[1]]\n",
      "SMd1543366f99149c38488039bb42bf95c\n",
      "Danger!!\n",
      "Fire Detected\n",
      "SMS sent!\n",
      "[[1]]\n",
      "SMcb2db4db59a04d918a6e126be38936a1\n",
      "Danger!!\n",
      "Fire Detected\n",
      "SMS sent!\n",
      "[[1]]\n",
      "SMea30481135c041b897d2bf95727a2e96\n",
      "Danger!!\n",
      "Fire Detected\n",
      "SMS sent!\n",
      "[[1]]\n",
      "SMbdfcb3ea7c184451a0d28ddbdfebfa63\n",
      "Danger!!\n",
      "Fire Detected\n",
      "SMS sent!\n",
      "[[1]]\n",
      "SM9e11838e84ef4cbeb313783faa7677a6\n",
      "Danger!!\n",
      "Fire Detected\n",
      "SMS sent!\n",
      "[[1]]\n",
      "SM29cbec6f1fdd4ac287d4e80df53d314d\n",
      "Danger!!\n",
      "Fire Detected\n",
      "SMS sent!\n",
      "[[1]]\n",
      "SMb399e3e37e8744ad895b19803d0fdc62\n",
      "Danger!!\n",
      "Fire Detected\n",
      "SMS sent!\n",
      "[[1]]\n",
      "SM97338fd7053940ca89ac8b5ad7e3b341\n",
      "Danger!!\n",
      "Fire Detected\n",
      "SMS sent!\n"
     ]
    }
   ],
   "source": [
    "import cv2\n",
    "#import facevec\n",
    "import numpy as np\n",
    "from tensorflow.keras.preprocessing import image \n",
    "from tensorflow.keras.models  import load_model\n",
    "from twilio.rest import Client\n",
    "from playsound import playsound\n",
    "\n",
    "model = load_model(r'forest1.h5') \n",
    "video = cv2.VideoCapture(0)\n",
    "name = ['forest','with fire']\n",
    "    \n",
    "while(1):\n",
    "    success, frame = video.read()\n",
    "    cv2.imwrite(\"image.jpg\",frame)\n",
    "    img = image.load_img(\"image.jpg\",target_size = (64,64))\n",
    "    x  = image.img_to_array(img)\n",
    "    x = np.expand_dims(x,axis = 0)\n",
    "    a=np.argmax(model.predict(x),axis=1)\n",
    "    #pred = model.predict_classes(x)\n",
    "    p = a[0]\n",
    "    print(pred)\n",
    "    cv2.putText(frame, \"predicted  class = \"+str(name[p]), (100,100), \n",
    "                cv2.FONT_HERSHEY_SIMPLEX, 1, (0,0,0), 1)\n",
    "    \n",
    "    \n",
    "    pred = model.predict_classes(x)\n",
    "    if pred[0]==1:\n",
    "        account_sid = 'AC36cb2559eb78f334eba463d94c2e52d3'\n",
    "        auth_token = '1e2d4f8016787f68af0ba897a262c77d'\n",
    "        client = Client(account_sid, auth_token)\n",
    "\n",
    "        message = client.messages \\\n",
    "        .create(\n",
    "         body='Forest Fire is detected, stay alert',\n",
    "         from_=' +16107561017', #twilio free number\n",
    "         to='+919347515147')\n",
    "        print(message.sid)\n",
    "        print(\"Danger!!\")\n",
    "        print('Fire Detected')\n",
    "        print ('SMS sent!')\n",
    "        playsound(r'D:\\internship\\alert.wav')\n",
    "        #break\n",
    "    else:\n",
    "        print(\"no danger\")\n",
    "       #break\n",
    "    cv2.imshow(\"image\",frame)\n",
    "    if cv2.waitKey(1) & 0xFF == ord('a'): \n",
    "        break\n",
    "\n",
    "video.release()\n",
    "cv2.destroyAllWindows()"
   ]
  },
  {
   "cell_type": "code",
   "execution_count": null,
   "metadata": {},
   "outputs": [],
   "source": []
  }
 ],
 "metadata": {
  "anaconda-cloud": {},
  "kernelspec": {
   "display_name": "Python 3",
   "language": "python",
   "name": "python3"
  },
  "language_info": {
   "codemirror_mode": {
    "name": "ipython",
    "version": 3
   },
   "file_extension": ".py",
   "mimetype": "text/x-python",
   "name": "python",
   "nbconvert_exporter": "python",
   "pygments_lexer": "ipython3",
   "version": "3.7.1"
  }
 },
 "nbformat": 4,
 "nbformat_minor": 1
}
